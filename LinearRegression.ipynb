{
 "cells": [
  {
   "cell_type": "markdown",
   "metadata": {},
   "source": [
    "# Imports"
   ]
  },
  {
   "cell_type": "code",
   "execution_count": 2,
   "metadata": {
    "collapsed": false
   },
   "outputs": [],
   "source": [
    "import tensorflow as tf\n",
    "import matplotlib.pyplot as plt\n",
    "import random as r\n",
    "\n",
    "%matplotlib inline\n",
    "\n",
    "tf.reset_default_graph()"
   ]
  },
  {
   "cell_type": "markdown",
   "metadata": {},
   "source": [
    "# Create the model"
   ]
  },
  {
   "cell_type": "code",
   "execution_count": 39,
   "metadata": {},
   "outputs": [],
   "source": [
    "training_iterations = 2000\n",
    "x_data = tf.placeholder(dtype=tf.float32, shape=None)\n",
    "y_data = tf.placeholder(dtype=tf.float32, shape=None)\n",
    "\n",
    "m = tf.Variable(1, dtype=tf.float32)\n",
    "b = tf.Variable(0, dtype=tf.float32)\n",
    "\n",
    "# TODO fill these with random numbers\n",
    "xs = []\n",
    "ys = []"
   ]
  },
  {
   "cell_type": "markdown",
   "metadata": {},
   "source": [
    "# Utility functions + values"
   ]
  },
  {
   "cell_type": "code",
   "execution_count": 40,
   "metadata": {},
   "outputs": [],
   "source": [
    "# Given a tensor of x values\n",
    "# find what TF thinks the ys should be\n",
    "def predict(xs):\n",
    "    return m * xs + b\n",
    "\n",
    "\n",
    "# Loss function\n",
    "# How far is the guess from the expected?\n",
    "def loss(guess, y_data):\n",
    "    return tf.reduce_mean(tf.square(guess - y_data))\n",
    "\n",
    "    \n",
    "optimizer = tf.train.GradientDescentOptimizer(learning_rate=0.005)\n",
    "train = optimizer.minimize(loss(predict(x_data), y_data))\n",
    "\n",
    "\n",
    "# Give an array of xs\n",
    "# Get an array of ys\n",
    "def get_plot_ys(xs, sess):\n",
    "    return sess.run(predict(xs))\n"
   ]
  },
  {
   "cell_type": "markdown",
   "metadata": {},
   "source": [
    "# Run the model"
   ]
  },
  {
   "cell_type": "code",
   "execution_count": null,
   "metadata": {},
   "outputs": [],
   "source": [
    "with tf.Session as sess:\n",
    "    sess.run(tf.global_variables_initializer())\n",
    "    for i in range(training_iterations):\n",
    "        sess.run(train, feed_dict={x_data: xs, y_data: ys})\n",
    "        if i % 100 == 0:\n",
    "            print(sess.run([m, b]))\n",
    "            # plt.plot(xs, get_plot_ys(xs, sess))\n",
    "    \n",
    "    print(sess.run(loss(predict(x_data), y_data)))\n",
    "    plt.plot(xs, ys, 'bo', 'Training Data')\n",
    "    plt.plot(xs, get_plot_ys(xs, sess))\n",
    "    plt.show"
   ]
  }
 ],
 "metadata": {
  "kernelspec": {
   "display_name": "Python 2",
   "language": "python",
   "name": "python2"
  },
  "language_info": {
   "codemirror_mode": {
    "name": "ipython",
    "version": 2
   },
   "file_extension": ".py",
   "mimetype": "text/x-python",
   "name": "python",
   "nbconvert_exporter": "python",
   "pygments_lexer": "ipython2",
   "version": "2.7.6"
  }
 },
 "nbformat": 4,
 "nbformat_minor": 0
}
